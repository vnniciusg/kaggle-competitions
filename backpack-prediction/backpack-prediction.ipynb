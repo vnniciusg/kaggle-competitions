{
 "cells": [
  {
   "cell_type": "code",
   "execution_count": 1,
   "id": "3eb84740",
   "metadata": {
    "_cell_guid": "b1076dfc-b9ad-4769-8c92-a6c4dae69d19",
    "_uuid": "8f2839f25d086af736a60e9eeb907d3b93b6e0e5",
    "execution": {
     "iopub.execute_input": "2025-02-22T05:31:59.743924Z",
     "iopub.status.busy": "2025-02-22T05:31:59.743524Z",
     "iopub.status.idle": "2025-02-22T05:32:02.948447Z",
     "shell.execute_reply": "2025-02-22T05:32:02.946994Z"
    },
    "papermill": {
     "duration": 3.212743,
     "end_time": "2025-02-22T05:32:02.950439",
     "exception": false,
     "start_time": "2025-02-22T05:31:59.737696",
     "status": "completed"
    },
    "tags": []
   },
   "outputs": [
    {
     "name": "stdout",
     "output_type": "stream",
     "text": [
      "/kaggle/input/playground-series-s5e2/sample_submission.csv\n",
      "/kaggle/input/playground-series-s5e2/train.csv\n",
      "/kaggle/input/playground-series-s5e2/test.csv\n",
      "/kaggle/input/playground-series-s5e2/training_extra.csv\n"
     ]
    }
   ],
   "source": [
    "import numpy as np\n",
    "import pandas as pd\n",
    "from sklearn.model_selection import RandomizedSearchCV, train_test_split\n",
    "from sklearn.pipeline import Pipeline\n",
    "from sklearn.impute import SimpleImputer\n",
    "from sklearn.preprocessing import OneHotEncoder\n",
    "from sklearn.compose import ColumnTransformer\n",
    "from sklearn.metrics import mean_squared_error\n",
    "from xgboost import XGBRegressor\n",
    "\n",
    "import os\n",
    "for dirname, _, filenames in os.walk('/kaggle/input'):\n",
    "    for filename in filenames:\n",
    "        print(os.path.join(dirname, filename))"
   ]
  },
  {
   "cell_type": "code",
   "execution_count": 2,
   "id": "c2ff9b44",
   "metadata": {
    "execution": {
     "iopub.execute_input": "2025-02-22T05:32:02.959991Z",
     "iopub.status.busy": "2025-02-22T05:32:02.959479Z",
     "iopub.status.idle": "2025-02-22T05:32:12.997148Z",
     "shell.execute_reply": "2025-02-22T05:32:12.996008Z"
    },
    "papermill": {
     "duration": 10.044632,
     "end_time": "2025-02-22T05:32:12.999157",
     "exception": false,
     "start_time": "2025-02-22T05:32:02.954525",
     "status": "completed"
    },
    "tags": []
   },
   "outputs": [],
   "source": [
    "train_df = pd.read_csv('/kaggle/input/playground-series-s5e2/train.csv')\n",
    "test_df = pd.read_csv('/kaggle/input/playground-series-s5e2/test.csv')\n",
    "train_extra_df = pd.read_csv('/kaggle/input/playground-series-s5e2/training_extra.csv')"
   ]
  },
  {
   "cell_type": "code",
   "execution_count": 3,
   "id": "e250cf21",
   "metadata": {
    "execution": {
     "iopub.execute_input": "2025-02-22T05:32:13.008969Z",
     "iopub.status.busy": "2025-02-22T05:32:13.008465Z",
     "iopub.status.idle": "2025-02-22T05:32:13.044601Z",
     "shell.execute_reply": "2025-02-22T05:32:13.043444Z"
    },
    "papermill": {
     "duration": 0.043159,
     "end_time": "2025-02-22T05:32:13.046758",
     "exception": false,
     "start_time": "2025-02-22T05:32:13.003599",
     "status": "completed"
    },
    "tags": []
   },
   "outputs": [
    {
     "data": {
      "text/html": [
       "<div>\n",
       "<style scoped>\n",
       "    .dataframe tbody tr th:only-of-type {\n",
       "        vertical-align: middle;\n",
       "    }\n",
       "\n",
       "    .dataframe tbody tr th {\n",
       "        vertical-align: top;\n",
       "    }\n",
       "\n",
       "    .dataframe thead th {\n",
       "        text-align: right;\n",
       "    }\n",
       "</style>\n",
       "<table border=\"1\" class=\"dataframe\">\n",
       "  <thead>\n",
       "    <tr style=\"text-align: right;\">\n",
       "      <th></th>\n",
       "      <th>id</th>\n",
       "      <th>Brand</th>\n",
       "      <th>Material</th>\n",
       "      <th>Size</th>\n",
       "      <th>Compartments</th>\n",
       "      <th>Laptop Compartment</th>\n",
       "      <th>Waterproof</th>\n",
       "      <th>Style</th>\n",
       "      <th>Color</th>\n",
       "      <th>Weight Capacity (kg)</th>\n",
       "      <th>Price</th>\n",
       "    </tr>\n",
       "  </thead>\n",
       "  <tbody>\n",
       "    <tr>\n",
       "      <th>0</th>\n",
       "      <td>0</td>\n",
       "      <td>Jansport</td>\n",
       "      <td>Leather</td>\n",
       "      <td>Medium</td>\n",
       "      <td>7.0</td>\n",
       "      <td>Yes</td>\n",
       "      <td>No</td>\n",
       "      <td>Tote</td>\n",
       "      <td>Black</td>\n",
       "      <td>11.611723</td>\n",
       "      <td>112.15875</td>\n",
       "    </tr>\n",
       "    <tr>\n",
       "      <th>1</th>\n",
       "      <td>1</td>\n",
       "      <td>Jansport</td>\n",
       "      <td>Canvas</td>\n",
       "      <td>Small</td>\n",
       "      <td>10.0</td>\n",
       "      <td>Yes</td>\n",
       "      <td>Yes</td>\n",
       "      <td>Messenger</td>\n",
       "      <td>Green</td>\n",
       "      <td>27.078537</td>\n",
       "      <td>68.88056</td>\n",
       "    </tr>\n",
       "    <tr>\n",
       "      <th>2</th>\n",
       "      <td>2</td>\n",
       "      <td>Under Armour</td>\n",
       "      <td>Leather</td>\n",
       "      <td>Small</td>\n",
       "      <td>2.0</td>\n",
       "      <td>Yes</td>\n",
       "      <td>No</td>\n",
       "      <td>Messenger</td>\n",
       "      <td>Red</td>\n",
       "      <td>16.643760</td>\n",
       "      <td>39.17320</td>\n",
       "    </tr>\n",
       "    <tr>\n",
       "      <th>3</th>\n",
       "      <td>3</td>\n",
       "      <td>Nike</td>\n",
       "      <td>Nylon</td>\n",
       "      <td>Small</td>\n",
       "      <td>8.0</td>\n",
       "      <td>Yes</td>\n",
       "      <td>No</td>\n",
       "      <td>Messenger</td>\n",
       "      <td>Green</td>\n",
       "      <td>12.937220</td>\n",
       "      <td>80.60793</td>\n",
       "    </tr>\n",
       "    <tr>\n",
       "      <th>4</th>\n",
       "      <td>4</td>\n",
       "      <td>Adidas</td>\n",
       "      <td>Canvas</td>\n",
       "      <td>Medium</td>\n",
       "      <td>1.0</td>\n",
       "      <td>Yes</td>\n",
       "      <td>Yes</td>\n",
       "      <td>Messenger</td>\n",
       "      <td>Green</td>\n",
       "      <td>17.749338</td>\n",
       "      <td>86.02312</td>\n",
       "    </tr>\n",
       "  </tbody>\n",
       "</table>\n",
       "</div>"
      ],
      "text/plain": [
       "   id         Brand Material    Size  Compartments Laptop Compartment  \\\n",
       "0   0      Jansport  Leather  Medium           7.0                Yes   \n",
       "1   1      Jansport   Canvas   Small          10.0                Yes   \n",
       "2   2  Under Armour  Leather   Small           2.0                Yes   \n",
       "3   3          Nike    Nylon   Small           8.0                Yes   \n",
       "4   4        Adidas   Canvas  Medium           1.0                Yes   \n",
       "\n",
       "  Waterproof      Style  Color  Weight Capacity (kg)      Price  \n",
       "0         No       Tote  Black             11.611723  112.15875  \n",
       "1        Yes  Messenger  Green             27.078537   68.88056  \n",
       "2         No  Messenger    Red             16.643760   39.17320  \n",
       "3         No  Messenger  Green             12.937220   80.60793  \n",
       "4        Yes  Messenger  Green             17.749338   86.02312  "
      ]
     },
     "execution_count": 3,
     "metadata": {},
     "output_type": "execute_result"
    }
   ],
   "source": [
    "train_df.head()"
   ]
  },
  {
   "cell_type": "code",
   "execution_count": 4,
   "id": "26cad50b",
   "metadata": {
    "execution": {
     "iopub.execute_input": "2025-02-22T05:32:13.061527Z",
     "iopub.status.busy": "2025-02-22T05:32:13.061124Z",
     "iopub.status.idle": "2025-02-22T05:32:13.076138Z",
     "shell.execute_reply": "2025-02-22T05:32:13.074906Z"
    },
    "papermill": {
     "duration": 0.024342,
     "end_time": "2025-02-22T05:32:13.078201",
     "exception": false,
     "start_time": "2025-02-22T05:32:13.053859",
     "status": "completed"
    },
    "tags": []
   },
   "outputs": [
    {
     "data": {
      "text/html": [
       "<div>\n",
       "<style scoped>\n",
       "    .dataframe tbody tr th:only-of-type {\n",
       "        vertical-align: middle;\n",
       "    }\n",
       "\n",
       "    .dataframe tbody tr th {\n",
       "        vertical-align: top;\n",
       "    }\n",
       "\n",
       "    .dataframe thead th {\n",
       "        text-align: right;\n",
       "    }\n",
       "</style>\n",
       "<table border=\"1\" class=\"dataframe\">\n",
       "  <thead>\n",
       "    <tr style=\"text-align: right;\">\n",
       "      <th></th>\n",
       "      <th>id</th>\n",
       "      <th>Brand</th>\n",
       "      <th>Material</th>\n",
       "      <th>Size</th>\n",
       "      <th>Compartments</th>\n",
       "      <th>Laptop Compartment</th>\n",
       "      <th>Waterproof</th>\n",
       "      <th>Style</th>\n",
       "      <th>Color</th>\n",
       "      <th>Weight Capacity (kg)</th>\n",
       "    </tr>\n",
       "  </thead>\n",
       "  <tbody>\n",
       "    <tr>\n",
       "      <th>0</th>\n",
       "      <td>300000</td>\n",
       "      <td>Puma</td>\n",
       "      <td>Leather</td>\n",
       "      <td>Small</td>\n",
       "      <td>2.0</td>\n",
       "      <td>No</td>\n",
       "      <td>No</td>\n",
       "      <td>Tote</td>\n",
       "      <td>Green</td>\n",
       "      <td>20.671147</td>\n",
       "    </tr>\n",
       "    <tr>\n",
       "      <th>1</th>\n",
       "      <td>300001</td>\n",
       "      <td>Nike</td>\n",
       "      <td>Canvas</td>\n",
       "      <td>Medium</td>\n",
       "      <td>7.0</td>\n",
       "      <td>No</td>\n",
       "      <td>Yes</td>\n",
       "      <td>Backpack</td>\n",
       "      <td>Green</td>\n",
       "      <td>13.564105</td>\n",
       "    </tr>\n",
       "    <tr>\n",
       "      <th>2</th>\n",
       "      <td>300002</td>\n",
       "      <td>Adidas</td>\n",
       "      <td>Canvas</td>\n",
       "      <td>Large</td>\n",
       "      <td>9.0</td>\n",
       "      <td>No</td>\n",
       "      <td>Yes</td>\n",
       "      <td>Messenger</td>\n",
       "      <td>Blue</td>\n",
       "      <td>11.809799</td>\n",
       "    </tr>\n",
       "    <tr>\n",
       "      <th>3</th>\n",
       "      <td>300003</td>\n",
       "      <td>Adidas</td>\n",
       "      <td>Nylon</td>\n",
       "      <td>Large</td>\n",
       "      <td>1.0</td>\n",
       "      <td>Yes</td>\n",
       "      <td>No</td>\n",
       "      <td>Messenger</td>\n",
       "      <td>Green</td>\n",
       "      <td>18.477036</td>\n",
       "    </tr>\n",
       "    <tr>\n",
       "      <th>4</th>\n",
       "      <td>300004</td>\n",
       "      <td>NaN</td>\n",
       "      <td>Nylon</td>\n",
       "      <td>Large</td>\n",
       "      <td>2.0</td>\n",
       "      <td>Yes</td>\n",
       "      <td>Yes</td>\n",
       "      <td>Tote</td>\n",
       "      <td>Black</td>\n",
       "      <td>9.907953</td>\n",
       "    </tr>\n",
       "  </tbody>\n",
       "</table>\n",
       "</div>"
      ],
      "text/plain": [
       "       id   Brand Material    Size  Compartments Laptop Compartment  \\\n",
       "0  300000    Puma  Leather   Small           2.0                 No   \n",
       "1  300001    Nike   Canvas  Medium           7.0                 No   \n",
       "2  300002  Adidas   Canvas   Large           9.0                 No   \n",
       "3  300003  Adidas    Nylon   Large           1.0                Yes   \n",
       "4  300004     NaN    Nylon   Large           2.0                Yes   \n",
       "\n",
       "  Waterproof      Style  Color  Weight Capacity (kg)  \n",
       "0         No       Tote  Green             20.671147  \n",
       "1        Yes   Backpack  Green             13.564105  \n",
       "2        Yes  Messenger   Blue             11.809799  \n",
       "3         No  Messenger  Green             18.477036  \n",
       "4        Yes       Tote  Black              9.907953  "
      ]
     },
     "execution_count": 4,
     "metadata": {},
     "output_type": "execute_result"
    }
   ],
   "source": [
    "test_df.head()"
   ]
  },
  {
   "cell_type": "code",
   "execution_count": 5,
   "id": "4787be9e",
   "metadata": {
    "execution": {
     "iopub.execute_input": "2025-02-22T05:32:13.093328Z",
     "iopub.status.busy": "2025-02-22T05:32:13.092945Z",
     "iopub.status.idle": "2025-02-22T05:32:13.223910Z",
     "shell.execute_reply": "2025-02-22T05:32:13.222543Z"
    },
    "papermill": {
     "duration": 0.140679,
     "end_time": "2025-02-22T05:32:13.226207",
     "exception": false,
     "start_time": "2025-02-22T05:32:13.085528",
     "status": "completed"
    },
    "tags": []
   },
   "outputs": [
    {
     "data": {
      "text/plain": [
       "id                         0\n",
       "Brand                   9705\n",
       "Material                8347\n",
       "Size                    6595\n",
       "Compartments               0\n",
       "Laptop Compartment      7444\n",
       "Waterproof              7050\n",
       "Style                   7970\n",
       "Color                   9950\n",
       "Weight Capacity (kg)     138\n",
       "Price                      0\n",
       "dtype: int64"
      ]
     },
     "execution_count": 5,
     "metadata": {},
     "output_type": "execute_result"
    }
   ],
   "source": [
    "train_df.isna().sum()"
   ]
  },
  {
   "cell_type": "code",
   "execution_count": 6,
   "id": "90213f00",
   "metadata": {
    "execution": {
     "iopub.execute_input": "2025-02-22T05:32:13.238970Z",
     "iopub.status.busy": "2025-02-22T05:32:13.238406Z",
     "iopub.status.idle": "2025-02-22T05:32:14.527853Z",
     "shell.execute_reply": "2025-02-22T05:32:14.526818Z"
    },
    "papermill": {
     "duration": 1.297325,
     "end_time": "2025-02-22T05:32:14.529735",
     "exception": false,
     "start_time": "2025-02-22T05:32:13.232410",
     "status": "completed"
    },
    "tags": []
   },
   "outputs": [
    {
     "data": {
      "text/plain": [
       "id                           0\n",
       "Brand                   117053\n",
       "Material                102615\n",
       "Size                     81190\n",
       "Compartments                 0\n",
       "Laptop Compartment       91089\n",
       "Waterproof               87274\n",
       "Style                    96210\n",
       "Color                   123667\n",
       "Weight Capacity (kg)      1670\n",
       "Price                        0\n",
       "dtype: int64"
      ]
     },
     "execution_count": 6,
     "metadata": {},
     "output_type": "execute_result"
    }
   ],
   "source": [
    "train_extra_df.isna().sum()"
   ]
  },
  {
   "cell_type": "code",
   "execution_count": 7,
   "id": "d982635b",
   "metadata": {
    "execution": {
     "iopub.execute_input": "2025-02-22T05:32:14.539965Z",
     "iopub.status.busy": "2025-02-22T05:32:14.539571Z",
     "iopub.status.idle": "2025-02-22T05:32:15.003724Z",
     "shell.execute_reply": "2025-02-22T05:32:15.002419Z"
    },
    "papermill": {
     "duration": 0.471389,
     "end_time": "2025-02-22T05:32:15.005667",
     "exception": false,
     "start_time": "2025-02-22T05:32:14.534278",
     "status": "completed"
    },
    "tags": []
   },
   "outputs": [],
   "source": [
    "train_df = pd.concat([train_df, train_extra_df], axis=0, ignore_index=True)"
   ]
  },
  {
   "cell_type": "code",
   "execution_count": 8,
   "id": "5702c407",
   "metadata": {
    "execution": {
     "iopub.execute_input": "2025-02-22T05:32:15.015708Z",
     "iopub.status.busy": "2025-02-22T05:32:15.015338Z",
     "iopub.status.idle": "2025-02-22T05:32:28.229679Z",
     "shell.execute_reply": "2025-02-22T05:32:28.228521Z"
    },
    "papermill": {
     "duration": 13.221425,
     "end_time": "2025-02-22T05:32:28.231520",
     "exception": false,
     "start_time": "2025-02-22T05:32:15.010095",
     "status": "completed"
    },
    "tags": []
   },
   "outputs": [],
   "source": [
    "categorical_cols = ['Brand', 'Material', 'Size', 'Style', 'Color']\n",
    "numerical_cols = ['Compartments', 'Weight Capacity (kg)']\n",
    "\n",
    "cat_preprocessor = Pipeline([\n",
    "    ('imputer', SimpleImputer(strategy='constant', fill_value='None')),\n",
    "    ('encoder', OneHotEncoder(drop='first'))\n",
    "])\n",
    "\n",
    "pipeline = ColumnTransformer([\n",
    "    ('cat', cat_preprocessor, categorical_cols),\n",
    "    ('num_imputer', SimpleImputer(strategy='median'), numerical_cols),\n",
    "])\n",
    "\n",
    "X_train_transformed = pipeline.fit_transform(train_df.drop(columns=['id', 'Price']))\n",
    "y_train = train_df['Price']"
   ]
  },
  {
   "cell_type": "code",
   "execution_count": 9,
   "id": "c4691940",
   "metadata": {
    "execution": {
     "iopub.execute_input": "2025-02-22T05:32:28.241821Z",
     "iopub.status.busy": "2025-02-22T05:32:28.241417Z",
     "iopub.status.idle": "2025-02-22T05:32:31.962355Z",
     "shell.execute_reply": "2025-02-22T05:32:31.961255Z"
    },
    "papermill": {
     "duration": 3.728266,
     "end_time": "2025-02-22T05:32:31.964453",
     "exception": false,
     "start_time": "2025-02-22T05:32:28.236187",
     "status": "completed"
    },
    "tags": []
   },
   "outputs": [],
   "source": [
    "X_train, X_test, y_train, y_test = train_test_split(X_train_transformed, y_train, test_size=0.2, stratify=y_train, random_state=42)"
   ]
  },
  {
   "cell_type": "code",
   "execution_count": 10,
   "id": "e30c1c80",
   "metadata": {
    "execution": {
     "iopub.execute_input": "2025-02-22T05:32:31.974326Z",
     "iopub.status.busy": "2025-02-22T05:32:31.973927Z",
     "iopub.status.idle": "2025-02-22T05:32:31.979090Z",
     "shell.execute_reply": "2025-02-22T05:32:31.977932Z"
    },
    "papermill": {
     "duration": 0.012113,
     "end_time": "2025-02-22T05:32:31.980893",
     "exception": false,
     "start_time": "2025-02-22T05:32:31.968780",
     "status": "completed"
    },
    "tags": []
   },
   "outputs": [],
   "source": [
    "import time\n",
    "from functools import wraps\n",
    "\n",
    "def timeit(func):\n",
    "    @wraps(func)\n",
    "    def wrapper(*args, **kwargs):\n",
    "        start = time.perf_counter()\n",
    "        result = func(*args, **kwargs)\n",
    "        print(f\"{func.__name__} took {time.perf_counter() - start:.2f} seconds\")\n",
    "        return result\n",
    "    return wrapper       "
   ]
  },
  {
   "cell_type": "code",
   "execution_count": 11,
   "id": "f320ea23",
   "metadata": {
    "execution": {
     "iopub.execute_input": "2025-02-22T05:32:31.990901Z",
     "iopub.status.busy": "2025-02-22T05:32:31.990571Z",
     "iopub.status.idle": "2025-02-22T05:32:52.949673Z",
     "shell.execute_reply": "2025-02-22T05:32:52.948358Z"
    },
    "papermill": {
     "duration": 20.966385,
     "end_time": "2025-02-22T05:32:52.951725",
     "exception": false,
     "start_time": "2025-02-22T05:32:31.985340",
     "status": "completed"
    },
    "tags": []
   },
   "outputs": [
    {
     "name": "stdout",
     "output_type": "stream",
     "text": [
      "RMSE: 38.8965\n",
      "train_model_xgb took 20.95 seconds\n"
     ]
    }
   ],
   "source": [
    "@timeit\n",
    "def train_model_xgb():\n",
    "    \n",
    "    xgb = XGBRegressor(objective='reg:squarederror', random_state=42)\n",
    "    model = xgb.fit(X_train, y_train)\n",
    "\n",
    "    y_pred = model.predict(X_test)\n",
    "\n",
    "    rmse = np.sqrt(mean_squared_error(y_test, y_pred))\n",
    "    print(f\"RMSE: {rmse:.4f}\")\n",
    "    \n",
    "    return model\n",
    "    \n",
    "model = train_model_xgb()"
   ]
  },
  {
   "cell_type": "code",
   "execution_count": 12,
   "id": "dc35bdf1",
   "metadata": {
    "execution": {
     "iopub.execute_input": "2025-02-22T05:32:52.962139Z",
     "iopub.status.busy": "2025-02-22T05:32:52.961788Z",
     "iopub.status.idle": "2025-02-22T05:32:52.965992Z",
     "shell.execute_reply": "2025-02-22T05:32:52.964960Z"
    },
    "papermill": {
     "duration": 0.011292,
     "end_time": "2025-02-22T05:32:52.967663",
     "exception": false,
     "start_time": "2025-02-22T05:32:52.956371",
     "status": "completed"
    },
    "tags": []
   },
   "outputs": [],
   "source": [
    "# @timeit\n",
    "# def train_model_xgb_random_search():\n",
    "\n",
    "#     param_dist = {\n",
    "#         'max_depth': [3, 4, 5, 6, 7],\n",
    "#         'learning_rate': [0.01, 0.05, 0.1, 0.2],\n",
    "#         'n_estimators': [100, 200, 300],\n",
    "#         'subsample': [0.5, 0.7, 1.0],\n",
    "#         'colsample_bytree': [0.5, 0.7, 1.0]\n",
    "#     }\n",
    "    \n",
    "#     xgb = XGBRegressor(objective='reg:squarederror', random_state=42)\n",
    "    \n",
    "#     random_search = RandomizedSearchCV(\n",
    "#         estimator=xgb,\n",
    "#         param_distributions=param_dist,\n",
    "#         n_iter=30,\n",
    "#         cv=5,\n",
    "#         scoring='neg_mean_squared_error',\n",
    "#         random_state=42,\n",
    "#         n_jobs=-1,\n",
    "#         verbose=1\n",
    "#     )\n",
    "    \n",
    "#     random_search.fit(X_train, y_train)\n",
    "    \n",
    "#     best_model = random_search.best_estimator_\n",
    "    \n",
    "#     y_pred = best_model.predict(X_test)\n",
    "#     rmse = np.sqrt(mean_squared_error(y_test, y_pred))\n",
    "    \n",
    "#     print(\"Best Parameters:\", random_search.best_params_)\n",
    "#     print(f\"RMSE: {rmse:.4f}\")\n",
    "    \n",
    "#     return best_model\n",
    "\n",
    "# hypertuned_model = train_model_xgb_random_search()"
   ]
  },
  {
   "cell_type": "code",
   "execution_count": 13,
   "id": "b690f303",
   "metadata": {
    "execution": {
     "iopub.execute_input": "2025-02-22T05:32:52.977778Z",
     "iopub.status.busy": "2025-02-22T05:32:52.977428Z",
     "iopub.status.idle": "2025-02-22T05:33:44.604607Z",
     "shell.execute_reply": "2025-02-22T05:33:44.603391Z"
    },
    "papermill": {
     "duration": 51.638121,
     "end_time": "2025-02-22T05:33:44.610257",
     "exception": false,
     "start_time": "2025-02-22T05:32:52.972136",
     "status": "completed"
    },
    "tags": []
   },
   "outputs": [
    {
     "name": "stdout",
     "output_type": "stream",
     "text": [
      "RMSE: 38.8901\n",
      "train_model_xgb_hypertuned took 51.62 seconds\n"
     ]
    }
   ],
   "source": [
    "@timeit\n",
    "def train_model_xgb_hypertuned():\n",
    "    \n",
    "    xgb = XGBRegressor(objective='reg:squarederror', \n",
    "                   random_state=42,\n",
    "                   subsample=1.0,\n",
    "                   n_estimators=200,\n",
    "                   max_depth=7,\n",
    "                   learning_rate=0.05,\n",
    "                   colsample_bytree=0.5)\n",
    "    \n",
    "    model = xgb.fit(X_train, y_train)\n",
    "\n",
    "    y_pred = model.predict(X_test)\n",
    "\n",
    "    rmse = np.sqrt(mean_squared_error(y_test, y_pred))\n",
    "    print(f\"RMSE: {rmse:.4f}\")\n",
    "    \n",
    "    return model\n",
    "\n",
    "model = train_model_xgb_hypertuned()"
   ]
  },
  {
   "cell_type": "code",
   "execution_count": 14,
   "id": "f6b9729f",
   "metadata": {
    "execution": {
     "iopub.execute_input": "2025-02-22T05:33:44.620524Z",
     "iopub.status.busy": "2025-02-22T05:33:44.620076Z",
     "iopub.status.idle": "2025-02-22T05:33:46.753843Z",
     "shell.execute_reply": "2025-02-22T05:33:46.752733Z"
    },
    "papermill": {
     "duration": 2.141032,
     "end_time": "2025-02-22T05:33:46.755826",
     "exception": false,
     "start_time": "2025-02-22T05:33:44.614794",
     "status": "completed"
    },
    "tags": []
   },
   "outputs": [],
   "source": [
    "X_test_transformed = pipeline.transform(test_df.drop('id', axis=1))\n",
    "y_pred = model.predict(X_test_transformed)\n",
    "\n",
    "test_df['Price'] = y_pred\n",
    "test_df[['id', 'Price']].to_csv('/kaggle/working/submission.csv', index=False)"
   ]
  }
 ],
 "metadata": {
  "kaggle": {
   "accelerator": "none",
   "dataSources": [
    {
     "databundleVersionId": 10995111,
     "sourceId": 90274,
     "sourceType": "competition"
    }
   ],
   "dockerImageVersionId": 30918,
   "isGpuEnabled": false,
   "isInternetEnabled": true,
   "language": "python",
   "sourceType": "notebook"
  },
  "kernelspec": {
   "display_name": "Python 3",
   "language": "python",
   "name": "python3"
  },
  "language_info": {
   "codemirror_mode": {
    "name": "ipython",
    "version": 3
   },
   "file_extension": ".py",
   "mimetype": "text/x-python",
   "name": "python",
   "nbconvert_exporter": "python",
   "pygments_lexer": "ipython3",
   "version": "3.10.12"
  },
  "papermill": {
   "default_parameters": {},
   "duration": 110.870658,
   "end_time": "2025-02-22T05:33:47.682746",
   "environment_variables": {},
   "exception": null,
   "input_path": "__notebook__.ipynb",
   "output_path": "__notebook__.ipynb",
   "parameters": {},
   "start_time": "2025-02-22T05:31:56.812088",
   "version": "2.6.0"
  }
 },
 "nbformat": 4,
 "nbformat_minor": 5
}
