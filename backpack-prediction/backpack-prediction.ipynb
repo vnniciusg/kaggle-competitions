{
 "cells": [
  {
   "cell_type": "code",
   "execution_count": 1,
   "id": "69ca8d04",
   "metadata": {
    "execution": {
     "iopub.execute_input": "2025-02-22T19:49:29.011809Z",
     "iopub.status.busy": "2025-02-22T19:49:29.011573Z",
     "iopub.status.idle": "2025-02-22T19:49:42.209655Z",
     "shell.execute_reply": "2025-02-22T19:49:42.208557Z"
    },
    "papermill": {
     "duration": 13.203174,
     "end_time": "2025-02-22T19:49:42.211319",
     "exception": false,
     "start_time": "2025-02-22T19:49:29.008145",
     "status": "completed"
    },
    "tags": []
   },
   "outputs": [
    {
     "name": "stdout",
     "output_type": "stream",
     "text": [
      "\r\n",
      "\r\n",
      "\r\n",
      "clinfo is already the newest version (3.0.21.02.21-1).\r\n",
      "Some packages could not be installed. This may mean that you have\r\n",
      "requested an impossible situation or if you are using the unstable\r\n",
      "distribution that some required packages have not yet been created\r\n",
      "or been moved out of Incoming.\r\n",
      "The following information may help to resolve the situation:\r\n",
      "\r\n",
      "The following packages have unmet dependencies:\r\n",
      " libnvidia-compute-510 : Depends: libnvidia-compute-535 but it is not installable\r\n",
      " nvidia-cuda-dev : Breaks: libcuda1 (< 495)\r\n",
      "                   Recommends: libnvcuvid1 but it is not installable\r\n",
      "\u001b[1;31mE: \u001b[0mUnable to correct problems, you have held broken packages.\u001b[0m\r\n",
      "Get:1 https://developer.download.nvidia.com/compute/cuda/repos/ubuntu2204/x86_64  InRelease [1,581 B]\r\n",
      "Get:2 https://cloud.r-project.org/bin/linux/ubuntu jammy-cran40/ InRelease [3,632 B]\r\n",
      "Get:3 https://r2u.stat.illinois.edu/ubuntu jammy InRelease [6,555 B]\r\n",
      "Hit:4 http://archive.ubuntu.com/ubuntu jammy InRelease\r\n",
      "Get:5 http://security.ubuntu.com/ubuntu jammy-security InRelease [129 kB]\r\n",
      "Get:6 https://developer.download.nvidia.com/compute/cuda/repos/ubuntu2204/x86_64  Packages [1,317 kB]\r\n",
      "Get:7 http://archive.ubuntu.com/ubuntu jammy-updates InRelease [128 kB]\r\n",
      "Hit:8 https://ppa.launchpadcontent.net/deadsnakes/ppa/ubuntu jammy InRelease\r\n",
      "Get:9 https://r2u.stat.illinois.edu/ubuntu jammy/main all Packages [8,703 kB]\r\n",
      "Hit:10 https://ppa.launchpadcontent.net/graphics-drivers/ppa/ubuntu jammy InRelease\r\n",
      "Hit:11 https://ppa.launchpadcontent.net/ubuntugis/ppa/ubuntu jammy InRelease\r\n",
      "Get:12 http://archive.ubuntu.com/ubuntu jammy-backports InRelease [127 kB]\r\n",
      "Get:13 https://r2u.stat.illinois.edu/ubuntu jammy/main amd64 Packages [2,662 kB]\r\n",
      "Get:14 http://security.ubuntu.com/ubuntu jammy-security/main amd64 Packages [2,610 kB]\r\n",
      "Get:15 http://archive.ubuntu.com/ubuntu jammy-updates/restricted amd64 Packages [3,793 kB]\r\n",
      "Get:16 http://security.ubuntu.com/ubuntu jammy-security/universe amd64 Packages [1,230 kB]\r\n",
      "Get:17 http://archive.ubuntu.com/ubuntu jammy-updates/universe amd64 Packages [1,526 kB]\r\n",
      "Get:18 http://archive.ubuntu.com/ubuntu jammy-updates/main amd64 Packages [2,939 kB]\r\n",
      "Get:19 http://archive.ubuntu.com/ubuntu jammy-backports/universe amd64 Packages [35.2 kB]\r\n",
      "Fetched 25.2 MB in 2s (11.2 MB/s)\r\n",
      "\r\n",
      "W: Skipping acquire of configured file 'main/source/Sources' as repository 'https://r2u.stat.illinois.edu/ubuntu jammy InRelease' does not seem to provide it (sources.list entry misspelt?)\r\n",
      "\u001b[2K   \u001b[90m━━━━━━━━━━━━━━━━━━━━━━━━━━━━━━━━━━━━━━━━\u001b[0m \u001b[32m3.1/3.1 MB\u001b[0m \u001b[31m33.5 MB/s\u001b[0m eta \u001b[36m0:00:00\u001b[0m\r\n",
      "\u001b[?25h"
     ]
    }
   ],
   "source": [
    "!mkdir -p /etc/OpenCL/vendors && echo \"libnvidia-opencl.so.1\" > /etc/OpenCL/vendors/nvidia.icd\n",
    "!sudo apt install nvidia-driver-460 nvidia-cuda-toolkit clinfo\n",
    "!apt-get update --fix-missing\n",
    "!pip install -q  lightgbm==4.1.0 \\\n",
    "  --config-settings=cmake.define.USE_GPU=ON \\\n",
    "  --config-settings=cmake.define.OpenCL_INCLUDE_DIR=\"/usr/local/cuda/include/\" \\\n",
    "  --config-settings=cmake.define.OpenCL_LIBRARY=\"/usr/local/cuda/lib64/libOpenCL.so\""
   ]
  },
  {
   "cell_type": "code",
   "execution_count": 2,
   "id": "24648052",
   "metadata": {
    "_cell_guid": "b1076dfc-b9ad-4769-8c92-a6c4dae69d19",
    "_kg_hide-input": true,
    "_uuid": "8f2839f25d086af736a60e9eeb907d3b93b6e0e5",
    "execution": {
     "iopub.execute_input": "2025-02-22T19:49:42.224314Z",
     "iopub.status.busy": "2025-02-22T19:49:42.224028Z",
     "iopub.status.idle": "2025-02-22T19:49:51.422073Z",
     "shell.execute_reply": "2025-02-22T19:49:51.421031Z"
    },
    "papermill": {
     "duration": 9.205892,
     "end_time": "2025-02-22T19:49:51.423639",
     "exception": false,
     "start_time": "2025-02-22T19:49:42.217747",
     "status": "completed"
    },
    "tags": []
   },
   "outputs": [
    {
     "name": "stdout",
     "output_type": "stream",
     "text": [
      "/kaggle/input/playground-series-s5e2/sample_submission.csv\n",
      "/kaggle/input/playground-series-s5e2/train.csv\n",
      "/kaggle/input/playground-series-s5e2/test.csv\n",
      "/kaggle/input/playground-series-s5e2/training_extra.csv\n"
     ]
    }
   ],
   "source": [
    "import numpy as np\n",
    "import pandas as pd\n",
    "from sklearn.model_selection import GridSearchCV, train_test_split\n",
    "from sklearn.pipeline import Pipeline\n",
    "from sklearn.impute import SimpleImputer\n",
    "from sklearn.compose import ColumnTransformer\n",
    "from sklearn.base import BaseEstimator, TransformerMixin\n",
    "from sklearn.metrics import mean_squared_error\n",
    "from sklearn.linear_model import Ridge\n",
    "from sklearn.ensemble import StackingRegressor\n",
    "from lightgbm import LGBMRegressor\n",
    "from xgboost import XGBRegressor\n",
    "\n",
    "import os\n",
    "for dirname, _, filenames in os.walk('/kaggle/input'):\n",
    "    for filename in filenames:\n",
    "        print(os.path.join(dirname, filename))"
   ]
  },
  {
   "cell_type": "code",
   "execution_count": 3,
   "id": "168150d6",
   "metadata": {
    "execution": {
     "iopub.execute_input": "2025-02-22T19:49:51.436973Z",
     "iopub.status.busy": "2025-02-22T19:49:51.436490Z",
     "iopub.status.idle": "2025-02-22T19:49:59.619638Z",
     "shell.execute_reply": "2025-02-22T19:49:59.618679Z"
    },
    "papermill": {
     "duration": 8.191457,
     "end_time": "2025-02-22T19:49:59.621335",
     "exception": false,
     "start_time": "2025-02-22T19:49:51.429878",
     "status": "completed"
    },
    "tags": []
   },
   "outputs": [],
   "source": [
    "train_df = pd.read_csv('/kaggle/input/playground-series-s5e2/train.csv')\n",
    "test_df = pd.read_csv('/kaggle/input/playground-series-s5e2/test.csv')\n",
    "train_extra_df = pd.read_csv('/kaggle/input/playground-series-s5e2/training_extra.csv')"
   ]
  },
  {
   "cell_type": "code",
   "execution_count": 4,
   "id": "7b3a22ad",
   "metadata": {
    "execution": {
     "iopub.execute_input": "2025-02-22T19:49:59.634327Z",
     "iopub.status.busy": "2025-02-22T19:49:59.634012Z",
     "iopub.status.idle": "2025-02-22T19:50:00.040166Z",
     "shell.execute_reply": "2025-02-22T19:50:00.039198Z"
    },
    "papermill": {
     "duration": 0.414152,
     "end_time": "2025-02-22T19:50:00.041882",
     "exception": false,
     "start_time": "2025-02-22T19:49:59.627730",
     "status": "completed"
    },
    "tags": []
   },
   "outputs": [],
   "source": [
    "train_df = pd.concat([train_df, train_extra_df], axis=0, ignore_index=True)"
   ]
  },
  {
   "cell_type": "code",
   "execution_count": 5,
   "id": "ec82c77e",
   "metadata": {
    "execution": {
     "iopub.execute_input": "2025-02-22T19:50:00.055425Z",
     "iopub.status.busy": "2025-02-22T19:50:00.055138Z",
     "iopub.status.idle": "2025-02-22T19:50:01.215953Z",
     "shell.execute_reply": "2025-02-22T19:50:01.215046Z"
    },
    "papermill": {
     "duration": 1.16872,
     "end_time": "2025-02-22T19:50:01.217300",
     "exception": false,
     "start_time": "2025-02-22T19:50:00.048580",
     "status": "completed"
    },
    "tags": []
   },
   "outputs": [
    {
     "data": {
      "text/plain": [
       "id                           0\n",
       "Brand                   126758\n",
       "Material                110962\n",
       "Size                     87785\n",
       "Compartments                 0\n",
       "Laptop Compartment       98533\n",
       "Waterproof               94324\n",
       "Style                   104180\n",
       "Color                   133617\n",
       "Weight Capacity (kg)      1808\n",
       "Price                        0\n",
       "dtype: int64"
      ]
     },
     "execution_count": 5,
     "metadata": {},
     "output_type": "execute_result"
    }
   ],
   "source": [
    "train_df.isna().sum()"
   ]
  },
  {
   "cell_type": "code",
   "execution_count": 6,
   "id": "683e3bb0",
   "metadata": {
    "execution": {
     "iopub.execute_input": "2025-02-22T19:50:01.230308Z",
     "iopub.status.busy": "2025-02-22T19:50:01.230032Z",
     "iopub.status.idle": "2025-02-22T19:50:01.234152Z",
     "shell.execute_reply": "2025-02-22T19:50:01.233350Z"
    },
    "papermill": {
     "duration": 0.011841,
     "end_time": "2025-02-22T19:50:01.235455",
     "exception": false,
     "start_time": "2025-02-22T19:50:01.223614",
     "status": "completed"
    },
    "tags": []
   },
   "outputs": [],
   "source": [
    "import time\n",
    "from functools import wraps\n",
    "\n",
    "def timeit(func):\n",
    "    @wraps(func)\n",
    "    def wrapper(*args, **kwargs):\n",
    "        start = time.perf_counter()\n",
    "        result = func(*args, **kwargs)\n",
    "        print(f\"{func.__name__} took {time.perf_counter() - start:.2f} seconds\")\n",
    "        return result\n",
    "    return wrapper       "
   ]
  },
  {
   "cell_type": "code",
   "execution_count": 7,
   "id": "5d9f9c3a",
   "metadata": {
    "execution": {
     "iopub.execute_input": "2025-02-22T19:50:01.248068Z",
     "iopub.status.busy": "2025-02-22T19:50:01.247854Z",
     "iopub.status.idle": "2025-02-22T19:50:10.488697Z",
     "shell.execute_reply": "2025-02-22T19:50:10.487785Z"
    },
    "papermill": {
     "duration": 9.2487,
     "end_time": "2025-02-22T19:50:10.490025",
     "exception": false,
     "start_time": "2025-02-22T19:50:01.241325",
     "status": "completed"
    },
    "tags": []
   },
   "outputs": [
    {
     "name": "stdout",
     "output_type": "stream",
     "text": [
      "preprocess_data took 8.90 seconds\n"
     ]
    }
   ],
   "source": [
    "@timeit\n",
    "def preprocess_data(df: pd.DataFrame) -> pd.DataFrame:\n",
    "\n",
    "    X = df.copy()\n",
    "  \n",
    "    dict_empty_values = {\n",
    "        'Material': 'NaN',\n",
    "        'Style': 'NaN',\n",
    "        'Brand': 'NaN',\n",
    "        'Size': 'NaN',\n",
    "        'Waterproof': 'NaN',\n",
    "        'Color': 'NaN',\n",
    "        'Laptop Compartment': 'NaN'\n",
    "    }\n",
    "\n",
    "    X = X.fillna(dict_empty_values)\n",
    "\n",
    "    X['Brand_Material'] = X['Brand'] + '_' + X['Material']\n",
    "    X['Weight_Capacity_Per_Compartments'] = X['Weight Capacity (kg)'] / X['Compartments']\n",
    "\n",
    "    categorical_features = X.select_dtypes(include=['object']).columns\n",
    "    X = pd.get_dummies(X, columns=categorical_features, drop_first=True)\n",
    "\n",
    "    return X\n",
    "\n",
    "\n",
    "X = preprocess_data(train_df.drop(['id', 'Price'], axis=1))\n",
    "y = train_df['Price']"
   ]
  },
  {
   "cell_type": "code",
   "execution_count": 8,
   "id": "e815c31f",
   "metadata": {
    "execution": {
     "iopub.execute_input": "2025-02-22T19:50:10.502932Z",
     "iopub.status.busy": "2025-02-22T19:50:10.502685Z",
     "iopub.status.idle": "2025-02-22T19:50:11.644988Z",
     "shell.execute_reply": "2025-02-22T19:50:11.644021Z"
    },
    "papermill": {
     "duration": 1.150607,
     "end_time": "2025-02-22T19:50:11.646754",
     "exception": false,
     "start_time": "2025-02-22T19:50:10.496147",
     "status": "completed"
    },
    "tags": []
   },
   "outputs": [],
   "source": [
    "X_train, X_test, y_train, y_test = train_test_split(X, y, test_size=0.2, random_state=42)"
   ]
  },
  {
   "cell_type": "code",
   "execution_count": 9,
   "id": "976c222d",
   "metadata": {
    "execution": {
     "iopub.execute_input": "2025-02-22T19:50:11.659701Z",
     "iopub.status.busy": "2025-02-22T19:50:11.659406Z",
     "iopub.status.idle": "2025-02-22T20:00:52.375309Z",
     "shell.execute_reply": "2025-02-22T20:00:52.374333Z"
    },
    "papermill": {
     "duration": 640.729545,
     "end_time": "2025-02-22T20:00:52.382510",
     "exception": false,
     "start_time": "2025-02-22T19:50:11.652965",
     "status": "completed"
    },
    "tags": []
   },
   "outputs": [
    {
     "name": "stdout",
     "output_type": "stream",
     "text": [
      "test RMSE for Stacking Regressor: 38.8562\n",
      "train_stacking_model took 640.71 seconds\n"
     ]
    }
   ],
   "source": [
    "@timeit\n",
    "def train_stacking_model():\n",
    "\n",
    "    N_ITERATIONS = 1000\n",
    "    RANDOM_STATE = 42\n",
    "\n",
    "    estimators = [\n",
    "        ('xgb', XGBRegressor(\n",
    "            random_state=RANDOM_STATE,\n",
    "            n_estimators=N_ITERATIONS,\n",
    "            tree_method='gpu_hist',\n",
    "            predictor='gpu_predictor',\n",
    "            device='cuda:0',\n",
    "            verbosity=0 \n",
    "         )),\n",
    "        ('lgbm', LGBMRegressor(\n",
    "            random_state=RANDOM_STATE,\n",
    "            n_estimators=N_ITERATIONS,\n",
    "            device='gpu',\n",
    "            gpu_platform_id=0,\n",
    "            gpu_device_id=1,\n",
    "            verbose=-1\n",
    "        ))\n",
    "    ]\n",
    "\n",
    "    meta_model = Ridge(random_state=RANDOM_STATE, alpha=0.1)\n",
    "\n",
    "    stacking_regressor = StackingRegressor(\n",
    "        estimators=estimators,\n",
    "        final_estimator=meta_model,\n",
    "        cv=5,\n",
    "        passthrough=False        \n",
    "    )\n",
    "\n",
    "    stacking_regressor.fit(X_train, y_train)\n",
    "\n",
    "    y_pred = stacking_regressor.predict(X_test)\n",
    "    rmse = np.sqrt(mean_squared_error(y_test, y_pred))\n",
    "    print(f\"test RMSE for Stacking Regressor: {rmse:.4f}\")\n",
    "\n",
    "    return stacking_regressor\n",
    "\n",
    "model = train_stacking_model()"
   ]
  },
  {
   "cell_type": "code",
   "execution_count": 10,
   "id": "78e8fe3a",
   "metadata": {
    "execution": {
     "iopub.execute_input": "2025-02-22T20:00:52.395612Z",
     "iopub.status.busy": "2025-02-22T20:00:52.395359Z",
     "iopub.status.idle": "2025-02-22T20:00:58.097803Z",
     "shell.execute_reply": "2025-02-22T20:00:58.097101Z"
    },
    "papermill": {
     "duration": 5.710542,
     "end_time": "2025-02-22T20:00:58.099297",
     "exception": false,
     "start_time": "2025-02-22T20:00:52.388755",
     "status": "completed"
    },
    "tags": []
   },
   "outputs": [
    {
     "name": "stdout",
     "output_type": "stream",
     "text": [
      "preprocess_data took 0.28 seconds\n"
     ]
    }
   ],
   "source": [
    "X_test = preprocess_data(test_df.drop(['id'], axis=1))\n",
    "y_pred = model.predict(X_test)\n",
    "\n",
    "test_df['Price'] = y_pred\n",
    "test_df[['id', 'Price']].to_csv('/kaggle/working/submission.csv', index=False)"
   ]
  }
 ],
 "metadata": {
  "kaggle": {
   "accelerator": "nvidiaTeslaT4",
   "dataSources": [
    {
     "databundleVersionId": 10995111,
     "sourceId": 90274,
     "sourceType": "competition"
    }
   ],
   "dockerImageVersionId": 30918,
   "isGpuEnabled": true,
   "isInternetEnabled": true,
   "language": "python",
   "sourceType": "notebook"
  },
  "kernelspec": {
   "display_name": "Python 3",
   "language": "python",
   "name": "python3"
  },
  "language_info": {
   "codemirror_mode": {
    "name": "ipython",
    "version": 3
   },
   "file_extension": ".py",
   "mimetype": "text/x-python",
   "name": "python",
   "nbconvert_exporter": "python",
   "pygments_lexer": "ipython3",
   "version": "3.10.12"
  },
  "papermill": {
   "default_parameters": {},
   "duration": 695.615035,
   "end_time": "2025-02-22T20:01:01.086579",
   "environment_variables": {},
   "exception": null,
   "input_path": "__notebook__.ipynb",
   "output_path": "__notebook__.ipynb",
   "parameters": {},
   "start_time": "2025-02-22T19:49:25.471544",
   "version": "2.6.0"
  }
 },
 "nbformat": 4,
 "nbformat_minor": 5
}
