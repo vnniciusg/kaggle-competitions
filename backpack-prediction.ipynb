{
 "cells": [
  {
   "cell_type": "code",
   "execution_count": 1,
   "id": "d328336d",
   "metadata": {
    "_cell_guid": "b1076dfc-b9ad-4769-8c92-a6c4dae69d19",
    "_uuid": "8f2839f25d086af736a60e9eeb907d3b93b6e0e5",
    "execution": {
     "iopub.execute_input": "2025-02-22T14:26:19.536715Z",
     "iopub.status.busy": "2025-02-22T14:26:19.536206Z",
     "iopub.status.idle": "2025-02-22T14:26:26.060574Z",
     "shell.execute_reply": "2025-02-22T14:26:26.059259Z"
    },
    "papermill": {
     "duration": 6.532007,
     "end_time": "2025-02-22T14:26:26.062402",
     "exception": false,
     "start_time": "2025-02-22T14:26:19.530395",
     "status": "completed"
    },
    "tags": []
   },
   "outputs": [
    {
     "name": "stdout",
     "output_type": "stream",
     "text": [
      "/kaggle/input/playground-series-s5e2/sample_submission.csv\n",
      "/kaggle/input/playground-series-s5e2/train.csv\n",
      "/kaggle/input/playground-series-s5e2/test.csv\n",
      "/kaggle/input/playground-series-s5e2/training_extra.csv\n"
     ]
    }
   ],
   "source": [
    "import numpy as np\n",
    "import pandas as pd\n",
    "from sklearn.model_selection import GridSearchCV, train_test_split\n",
    "from sklearn.pipeline import Pipeline\n",
    "from sklearn.impute import SimpleImputer\n",
    "from sklearn.preprocessing import OneHotEncoder, StandardScaler, PolynomialFeatures, OrdinalEncoder\n",
    "from sklearn.compose import ColumnTransformer\n",
    "from sklearn.base import BaseEstimator, TransformerMixin\n",
    "from sklearn.metrics import mean_squared_error\n",
    "from sklearn.ensemble import RandomForestRegressor\n",
    "from lightgbm import LGBMRegressor\n",
    "\n",
    "import os\n",
    "for dirname, _, filenames in os.walk('/kaggle/input'):\n",
    "    for filename in filenames:\n",
    "        print(os.path.join(dirname, filename))"
   ]
  },
  {
   "cell_type": "code",
   "execution_count": 2,
   "id": "ac439ff0",
   "metadata": {
    "execution": {
     "iopub.execute_input": "2025-02-22T14:26:26.072202Z",
     "iopub.status.busy": "2025-02-22T14:26:26.071453Z",
     "iopub.status.idle": "2025-02-22T14:26:36.910227Z",
     "shell.execute_reply": "2025-02-22T14:26:36.909288Z"
    },
    "papermill": {
     "duration": 10.845619,
     "end_time": "2025-02-22T14:26:36.912311",
     "exception": false,
     "start_time": "2025-02-22T14:26:26.066692",
     "status": "completed"
    },
    "tags": []
   },
   "outputs": [],
   "source": [
    "train_df = pd.read_csv('/kaggle/input/playground-series-s5e2/train.csv')\n",
    "test_df = pd.read_csv('/kaggle/input/playground-series-s5e2/test.csv')\n",
    "train_extra_df = pd.read_csv('/kaggle/input/playground-series-s5e2/training_extra.csv')"
   ]
  },
  {
   "cell_type": "code",
   "execution_count": 3,
   "id": "11689d5c",
   "metadata": {
    "execution": {
     "iopub.execute_input": "2025-02-22T14:26:36.921980Z",
     "iopub.status.busy": "2025-02-22T14:26:36.921563Z",
     "iopub.status.idle": "2025-02-22T14:26:36.952669Z",
     "shell.execute_reply": "2025-02-22T14:26:36.951546Z"
    },
    "papermill": {
     "duration": 0.037904,
     "end_time": "2025-02-22T14:26:36.954453",
     "exception": false,
     "start_time": "2025-02-22T14:26:36.916549",
     "status": "completed"
    },
    "tags": []
   },
   "outputs": [
    {
     "data": {
      "text/html": [
       "<div>\n",
       "<style scoped>\n",
       "    .dataframe tbody tr th:only-of-type {\n",
       "        vertical-align: middle;\n",
       "    }\n",
       "\n",
       "    .dataframe tbody tr th {\n",
       "        vertical-align: top;\n",
       "    }\n",
       "\n",
       "    .dataframe thead th {\n",
       "        text-align: right;\n",
       "    }\n",
       "</style>\n",
       "<table border=\"1\" class=\"dataframe\">\n",
       "  <thead>\n",
       "    <tr style=\"text-align: right;\">\n",
       "      <th></th>\n",
       "      <th>id</th>\n",
       "      <th>Brand</th>\n",
       "      <th>Material</th>\n",
       "      <th>Size</th>\n",
       "      <th>Compartments</th>\n",
       "      <th>Laptop Compartment</th>\n",
       "      <th>Waterproof</th>\n",
       "      <th>Style</th>\n",
       "      <th>Color</th>\n",
       "      <th>Weight Capacity (kg)</th>\n",
       "      <th>Price</th>\n",
       "    </tr>\n",
       "  </thead>\n",
       "  <tbody>\n",
       "    <tr>\n",
       "      <th>0</th>\n",
       "      <td>0</td>\n",
       "      <td>Jansport</td>\n",
       "      <td>Leather</td>\n",
       "      <td>Medium</td>\n",
       "      <td>7.0</td>\n",
       "      <td>Yes</td>\n",
       "      <td>No</td>\n",
       "      <td>Tote</td>\n",
       "      <td>Black</td>\n",
       "      <td>11.611723</td>\n",
       "      <td>112.15875</td>\n",
       "    </tr>\n",
       "    <tr>\n",
       "      <th>1</th>\n",
       "      <td>1</td>\n",
       "      <td>Jansport</td>\n",
       "      <td>Canvas</td>\n",
       "      <td>Small</td>\n",
       "      <td>10.0</td>\n",
       "      <td>Yes</td>\n",
       "      <td>Yes</td>\n",
       "      <td>Messenger</td>\n",
       "      <td>Green</td>\n",
       "      <td>27.078537</td>\n",
       "      <td>68.88056</td>\n",
       "    </tr>\n",
       "    <tr>\n",
       "      <th>2</th>\n",
       "      <td>2</td>\n",
       "      <td>Under Armour</td>\n",
       "      <td>Leather</td>\n",
       "      <td>Small</td>\n",
       "      <td>2.0</td>\n",
       "      <td>Yes</td>\n",
       "      <td>No</td>\n",
       "      <td>Messenger</td>\n",
       "      <td>Red</td>\n",
       "      <td>16.643760</td>\n",
       "      <td>39.17320</td>\n",
       "    </tr>\n",
       "    <tr>\n",
       "      <th>3</th>\n",
       "      <td>3</td>\n",
       "      <td>Nike</td>\n",
       "      <td>Nylon</td>\n",
       "      <td>Small</td>\n",
       "      <td>8.0</td>\n",
       "      <td>Yes</td>\n",
       "      <td>No</td>\n",
       "      <td>Messenger</td>\n",
       "      <td>Green</td>\n",
       "      <td>12.937220</td>\n",
       "      <td>80.60793</td>\n",
       "    </tr>\n",
       "    <tr>\n",
       "      <th>4</th>\n",
       "      <td>4</td>\n",
       "      <td>Adidas</td>\n",
       "      <td>Canvas</td>\n",
       "      <td>Medium</td>\n",
       "      <td>1.0</td>\n",
       "      <td>Yes</td>\n",
       "      <td>Yes</td>\n",
       "      <td>Messenger</td>\n",
       "      <td>Green</td>\n",
       "      <td>17.749338</td>\n",
       "      <td>86.02312</td>\n",
       "    </tr>\n",
       "  </tbody>\n",
       "</table>\n",
       "</div>"
      ],
      "text/plain": [
       "   id         Brand Material    Size  Compartments Laptop Compartment  \\\n",
       "0   0      Jansport  Leather  Medium           7.0                Yes   \n",
       "1   1      Jansport   Canvas   Small          10.0                Yes   \n",
       "2   2  Under Armour  Leather   Small           2.0                Yes   \n",
       "3   3          Nike    Nylon   Small           8.0                Yes   \n",
       "4   4        Adidas   Canvas  Medium           1.0                Yes   \n",
       "\n",
       "  Waterproof      Style  Color  Weight Capacity (kg)      Price  \n",
       "0         No       Tote  Black             11.611723  112.15875  \n",
       "1        Yes  Messenger  Green             27.078537   68.88056  \n",
       "2         No  Messenger    Red             16.643760   39.17320  \n",
       "3         No  Messenger  Green             12.937220   80.60793  \n",
       "4        Yes  Messenger  Green             17.749338   86.02312  "
      ]
     },
     "execution_count": 3,
     "metadata": {},
     "output_type": "execute_result"
    }
   ],
   "source": [
    "train_df.head()"
   ]
  },
  {
   "cell_type": "code",
   "execution_count": 4,
   "id": "6b9989e2",
   "metadata": {
    "execution": {
     "iopub.execute_input": "2025-02-22T14:26:36.964203Z",
     "iopub.status.busy": "2025-02-22T14:26:36.963805Z",
     "iopub.status.idle": "2025-02-22T14:26:36.977920Z",
     "shell.execute_reply": "2025-02-22T14:26:36.976926Z"
    },
    "papermill": {
     "duration": 0.02085,
     "end_time": "2025-02-22T14:26:36.979630",
     "exception": false,
     "start_time": "2025-02-22T14:26:36.958780",
     "status": "completed"
    },
    "tags": []
   },
   "outputs": [
    {
     "data": {
      "text/html": [
       "<div>\n",
       "<style scoped>\n",
       "    .dataframe tbody tr th:only-of-type {\n",
       "        vertical-align: middle;\n",
       "    }\n",
       "\n",
       "    .dataframe tbody tr th {\n",
       "        vertical-align: top;\n",
       "    }\n",
       "\n",
       "    .dataframe thead th {\n",
       "        text-align: right;\n",
       "    }\n",
       "</style>\n",
       "<table border=\"1\" class=\"dataframe\">\n",
       "  <thead>\n",
       "    <tr style=\"text-align: right;\">\n",
       "      <th></th>\n",
       "      <th>id</th>\n",
       "      <th>Brand</th>\n",
       "      <th>Material</th>\n",
       "      <th>Size</th>\n",
       "      <th>Compartments</th>\n",
       "      <th>Laptop Compartment</th>\n",
       "      <th>Waterproof</th>\n",
       "      <th>Style</th>\n",
       "      <th>Color</th>\n",
       "      <th>Weight Capacity (kg)</th>\n",
       "    </tr>\n",
       "  </thead>\n",
       "  <tbody>\n",
       "    <tr>\n",
       "      <th>0</th>\n",
       "      <td>300000</td>\n",
       "      <td>Puma</td>\n",
       "      <td>Leather</td>\n",
       "      <td>Small</td>\n",
       "      <td>2.0</td>\n",
       "      <td>No</td>\n",
       "      <td>No</td>\n",
       "      <td>Tote</td>\n",
       "      <td>Green</td>\n",
       "      <td>20.671147</td>\n",
       "    </tr>\n",
       "    <tr>\n",
       "      <th>1</th>\n",
       "      <td>300001</td>\n",
       "      <td>Nike</td>\n",
       "      <td>Canvas</td>\n",
       "      <td>Medium</td>\n",
       "      <td>7.0</td>\n",
       "      <td>No</td>\n",
       "      <td>Yes</td>\n",
       "      <td>Backpack</td>\n",
       "      <td>Green</td>\n",
       "      <td>13.564105</td>\n",
       "    </tr>\n",
       "    <tr>\n",
       "      <th>2</th>\n",
       "      <td>300002</td>\n",
       "      <td>Adidas</td>\n",
       "      <td>Canvas</td>\n",
       "      <td>Large</td>\n",
       "      <td>9.0</td>\n",
       "      <td>No</td>\n",
       "      <td>Yes</td>\n",
       "      <td>Messenger</td>\n",
       "      <td>Blue</td>\n",
       "      <td>11.809799</td>\n",
       "    </tr>\n",
       "    <tr>\n",
       "      <th>3</th>\n",
       "      <td>300003</td>\n",
       "      <td>Adidas</td>\n",
       "      <td>Nylon</td>\n",
       "      <td>Large</td>\n",
       "      <td>1.0</td>\n",
       "      <td>Yes</td>\n",
       "      <td>No</td>\n",
       "      <td>Messenger</td>\n",
       "      <td>Green</td>\n",
       "      <td>18.477036</td>\n",
       "    </tr>\n",
       "    <tr>\n",
       "      <th>4</th>\n",
       "      <td>300004</td>\n",
       "      <td>NaN</td>\n",
       "      <td>Nylon</td>\n",
       "      <td>Large</td>\n",
       "      <td>2.0</td>\n",
       "      <td>Yes</td>\n",
       "      <td>Yes</td>\n",
       "      <td>Tote</td>\n",
       "      <td>Black</td>\n",
       "      <td>9.907953</td>\n",
       "    </tr>\n",
       "  </tbody>\n",
       "</table>\n",
       "</div>"
      ],
      "text/plain": [
       "       id   Brand Material    Size  Compartments Laptop Compartment  \\\n",
       "0  300000    Puma  Leather   Small           2.0                 No   \n",
       "1  300001    Nike   Canvas  Medium           7.0                 No   \n",
       "2  300002  Adidas   Canvas   Large           9.0                 No   \n",
       "3  300003  Adidas    Nylon   Large           1.0                Yes   \n",
       "4  300004     NaN    Nylon   Large           2.0                Yes   \n",
       "\n",
       "  Waterproof      Style  Color  Weight Capacity (kg)  \n",
       "0         No       Tote  Green             20.671147  \n",
       "1        Yes   Backpack  Green             13.564105  \n",
       "2        Yes  Messenger   Blue             11.809799  \n",
       "3         No  Messenger  Green             18.477036  \n",
       "4        Yes       Tote  Black              9.907953  "
      ]
     },
     "execution_count": 4,
     "metadata": {},
     "output_type": "execute_result"
    }
   ],
   "source": [
    "test_df.head()"
   ]
  },
  {
   "cell_type": "code",
   "execution_count": 5,
   "id": "5d2a7caf",
   "metadata": {
    "execution": {
     "iopub.execute_input": "2025-02-22T14:26:36.989611Z",
     "iopub.status.busy": "2025-02-22T14:26:36.989238Z",
     "iopub.status.idle": "2025-02-22T14:26:37.104937Z",
     "shell.execute_reply": "2025-02-22T14:26:37.103735Z"
    },
    "papermill": {
     "duration": 0.122777,
     "end_time": "2025-02-22T14:26:37.106922",
     "exception": false,
     "start_time": "2025-02-22T14:26:36.984145",
     "status": "completed"
    },
    "tags": []
   },
   "outputs": [
    {
     "data": {
      "text/plain": [
       "id                         0\n",
       "Brand                   9705\n",
       "Material                8347\n",
       "Size                    6595\n",
       "Compartments               0\n",
       "Laptop Compartment      7444\n",
       "Waterproof              7050\n",
       "Style                   7970\n",
       "Color                   9950\n",
       "Weight Capacity (kg)     138\n",
       "Price                      0\n",
       "dtype: int64"
      ]
     },
     "execution_count": 5,
     "metadata": {},
     "output_type": "execute_result"
    }
   ],
   "source": [
    "train_df.isna().sum()"
   ]
  },
  {
   "cell_type": "code",
   "execution_count": 6,
   "id": "e8a9498c",
   "metadata": {
    "execution": {
     "iopub.execute_input": "2025-02-22T14:26:37.117230Z",
     "iopub.status.busy": "2025-02-22T14:26:37.116841Z",
     "iopub.status.idle": "2025-02-22T14:26:38.389171Z",
     "shell.execute_reply": "2025-02-22T14:26:38.387767Z"
    },
    "papermill": {
     "duration": 1.279522,
     "end_time": "2025-02-22T14:26:38.390980",
     "exception": false,
     "start_time": "2025-02-22T14:26:37.111458",
     "status": "completed"
    },
    "tags": []
   },
   "outputs": [
    {
     "data": {
      "text/plain": [
       "id                           0\n",
       "Brand                   117053\n",
       "Material                102615\n",
       "Size                     81190\n",
       "Compartments                 0\n",
       "Laptop Compartment       91089\n",
       "Waterproof               87274\n",
       "Style                    96210\n",
       "Color                   123667\n",
       "Weight Capacity (kg)      1670\n",
       "Price                        0\n",
       "dtype: int64"
      ]
     },
     "execution_count": 6,
     "metadata": {},
     "output_type": "execute_result"
    }
   ],
   "source": [
    "train_extra_df.isna().sum()"
   ]
  },
  {
   "cell_type": "code",
   "execution_count": 7,
   "id": "8edda37d",
   "metadata": {
    "execution": {
     "iopub.execute_input": "2025-02-22T14:26:38.401741Z",
     "iopub.status.busy": "2025-02-22T14:26:38.401377Z",
     "iopub.status.idle": "2025-02-22T14:26:38.853835Z",
     "shell.execute_reply": "2025-02-22T14:26:38.852594Z"
    },
    "papermill": {
     "duration": 0.460184,
     "end_time": "2025-02-22T14:26:38.856109",
     "exception": false,
     "start_time": "2025-02-22T14:26:38.395925",
     "status": "completed"
    },
    "tags": []
   },
   "outputs": [],
   "source": [
    "train_df = pd.concat([train_df, train_extra_df], axis=0, ignore_index=True)"
   ]
  },
  {
   "cell_type": "code",
   "execution_count": 8,
   "id": "4c86181c",
   "metadata": {
    "execution": {
     "iopub.execute_input": "2025-02-22T14:26:38.867054Z",
     "iopub.status.busy": "2025-02-22T14:26:38.866675Z",
     "iopub.status.idle": "2025-02-22T14:26:38.873005Z",
     "shell.execute_reply": "2025-02-22T14:26:38.871790Z"
    },
    "papermill": {
     "duration": 0.013875,
     "end_time": "2025-02-22T14:26:38.874829",
     "exception": false,
     "start_time": "2025-02-22T14:26:38.860954",
     "status": "completed"
    },
    "tags": []
   },
   "outputs": [],
   "source": [
    "class FeatureEnginner(BaseEstimator, TransformerMixin):\n",
    "\n",
    "    def __init__(self):\n",
    "        pass\n",
    "\n",
    "    def fit(self, X, y=None):\n",
    "        return self\n",
    "\n",
    "    def transform(self, X, y=None):\n",
    "\n",
    "        brand_material = np.array([f\"{b}_{m}\" for b, m in zip(X.iloc[:, 0], X.iloc[:, 1])])\n",
    "        compartments_weight = X.iloc[:, 2] / X.iloc[:, 3]\n",
    "        \n",
    "        X['Brand_Material'] = brand_material\n",
    "        X['Compartments_Weight_Capacity'] = compartments_weight\n",
    "    \n",
    "        return X"
   ]
  },
  {
   "cell_type": "code",
   "execution_count": 9,
   "id": "f3760510",
   "metadata": {
    "execution": {
     "iopub.execute_input": "2025-02-22T14:26:38.885461Z",
     "iopub.status.busy": "2025-02-22T14:26:38.885058Z",
     "iopub.status.idle": "2025-02-22T14:26:58.295678Z",
     "shell.execute_reply": "2025-02-22T14:26:58.294579Z"
    },
    "papermill": {
     "duration": 19.41798,
     "end_time": "2025-02-22T14:26:58.297611",
     "exception": false,
     "start_time": "2025-02-22T14:26:38.879631",
     "status": "completed"
    },
    "tags": []
   },
   "outputs": [],
   "source": [
    "categorical_cols = ['Brand', 'Material', 'Style', 'Color']\n",
    "ordinal_cols = ['Size']\n",
    "feature_eng_cols = ['Brand', 'Material', 'Compartments', 'Weight Capacity (kg)']\n",
    "numerical_cols = ['Compartments', 'Weight Capacity (kg)']\n",
    "\n",
    "num_preprocessor = Pipeline([\n",
    "    ('imputer', SimpleImputer(strategy='median')),\n",
    "    ('scaler', StandardScaler()),\n",
    "    ('poly', PolynomialFeatures(degree=2, include_bias=False))\n",
    "])\n",
    "\n",
    "cat_preprocessor = Pipeline([\n",
    "    ('imputer', SimpleImputer(strategy='constant', fill_value='None')),\n",
    "    ('encoder', OneHotEncoder(drop='first'))\n",
    "])\n",
    "\n",
    "ord_preprocessor = Pipeline([\n",
    "    ('imputer', SimpleImputer(strategy='most_frequent')),\n",
    "    ('ord', OrdinalEncoder(categories=[['Small', 'Medium', 'Large']]))\n",
    "])\n",
    "\n",
    "fe_preprocessor = Pipeline([\n",
    "    ('feature_eng', FeatureEnginner()),\n",
    "    ('encoder', ColumnTransformer([\n",
    "        ('brand_material_enc', OneHotEncoder(drop='first'), ['Brand_Material']),\n",
    "        ('num_passthrough', 'passthrough', ['Compartments_Weight_Capacity'])\n",
    "    ]))\n",
    "])\n",
    "\n",
    "pipeline = ColumnTransformer([\n",
    "    ('cat', cat_preprocessor, categorical_cols),\n",
    "    ('num', num_preprocessor, numerical_cols),\n",
    "    ('ord', ord_preprocessor, ordinal_cols),\n",
    "    ('feature_eng', fe_preprocessor, feature_eng_cols)\n",
    "])\n",
    "\n",
    "\n",
    "X_train_transformed = pipeline.fit_transform(train_df.drop(columns=['id', 'Price']))\n",
    "y_train = train_df['Price']"
   ]
  },
  {
   "cell_type": "code",
   "execution_count": 10,
   "id": "36e0c7b8",
   "metadata": {
    "execution": {
     "iopub.execute_input": "2025-02-22T14:26:58.310085Z",
     "iopub.status.busy": "2025-02-22T14:26:58.309743Z",
     "iopub.status.idle": "2025-02-22T14:26:59.653162Z",
     "shell.execute_reply": "2025-02-22T14:26:59.652139Z"
    },
    "papermill": {
     "duration": 1.351304,
     "end_time": "2025-02-22T14:26:59.655278",
     "exception": false,
     "start_time": "2025-02-22T14:26:58.303974",
     "status": "completed"
    },
    "tags": []
   },
   "outputs": [],
   "source": [
    "X_train, X_test, y_train, y_test = train_test_split(X_train_transformed, y_train, test_size=0.2, random_state=42)"
   ]
  },
  {
   "cell_type": "code",
   "execution_count": 11,
   "id": "4a860cc5",
   "metadata": {
    "execution": {
     "iopub.execute_input": "2025-02-22T14:26:59.665835Z",
     "iopub.status.busy": "2025-02-22T14:26:59.665495Z",
     "iopub.status.idle": "2025-02-22T14:26:59.670655Z",
     "shell.execute_reply": "2025-02-22T14:26:59.669504Z"
    },
    "papermill": {
     "duration": 0.012266,
     "end_time": "2025-02-22T14:26:59.672233",
     "exception": false,
     "start_time": "2025-02-22T14:26:59.659967",
     "status": "completed"
    },
    "tags": []
   },
   "outputs": [],
   "source": [
    "import time\n",
    "from functools import wraps\n",
    "\n",
    "def timeit(func):\n",
    "    @wraps(func)\n",
    "    def wrapper(*args, **kwargs):\n",
    "        start = time.perf_counter()\n",
    "        result = func(*args, **kwargs)\n",
    "        print(f\"{func.__name__} took {time.perf_counter() - start:.2f} seconds\")\n",
    "        return result\n",
    "    return wrapper       "
   ]
  },
  {
   "cell_type": "code",
   "execution_count": 12,
   "id": "2a4ab1fd",
   "metadata": {
    "execution": {
     "iopub.execute_input": "2025-02-22T14:26:59.682623Z",
     "iopub.status.busy": "2025-02-22T14:26:59.682153Z",
     "iopub.status.idle": "2025-02-22T14:27:16.418764Z",
     "shell.execute_reply": "2025-02-22T14:27:16.417434Z"
    },
    "papermill": {
     "duration": 16.744112,
     "end_time": "2025-02-22T14:27:16.420893",
     "exception": false,
     "start_time": "2025-02-22T14:26:59.676781",
     "status": "completed"
    },
    "tags": []
   },
   "outputs": [
    {
     "name": "stdout",
     "output_type": "stream",
     "text": [
      "[LightGBM] [Info] Auto-choosing row-wise multi-threading, the overhead of testing was 0.071167 seconds.\n",
      "You can set `force_row_wise=true` to remove the overhead.\n",
      "And if memory is not enough, you can set `force_col_wise=true`.\n",
      "[LightGBM] [Info] Total Bins 1139\n",
      "[LightGBM] [Info] Number of data points in the train set: 3195454, number of used features: 54\n",
      "[LightGBM] [Info] Start training from score 81.361311\n",
      "Test RMSE for LGBMRegressor: 38.8726\n",
      "train_lgbm_model took 16.73 seconds\n"
     ]
    }
   ],
   "source": [
    "@timeit\n",
    "def train_lgbm_model():\n",
    "\n",
    "    model = LGBMRegressor(random_state=42)\n",
    "\n",
    "    model.fit(X_train, y_train)\n",
    "    \n",
    "    y_pred_lgbm = model.predict(X_test)\n",
    "    test_rmse_lgbm = np.sqrt(mean_squared_error(y_test, y_pred_lgbm))\n",
    "    print(\"Test RMSE for LGBMRegressor: {:.4f}\".format(test_rmse_lgbm))\n",
    "\n",
    "    return model\n",
    "\n",
    "model = train_lgbm_model()"
   ]
  },
  {
   "cell_type": "code",
   "execution_count": 13,
   "id": "e198ba8c",
   "metadata": {
    "execution": {
     "iopub.execute_input": "2025-02-22T14:27:16.431781Z",
     "iopub.status.busy": "2025-02-22T14:27:16.431326Z",
     "iopub.status.idle": "2025-02-22T14:27:16.435550Z",
     "shell.execute_reply": "2025-02-22T14:27:16.434498Z"
    },
    "papermill": {
     "duration": 0.01154,
     "end_time": "2025-02-22T14:27:16.437298",
     "exception": false,
     "start_time": "2025-02-22T14:27:16.425758",
     "status": "completed"
    },
    "tags": []
   },
   "outputs": [],
   "source": [
    "# @timeit\n",
    "# def hypertune_lgbm_model():\n",
    "#     lgbm_param_grid = {\n",
    "#         'n_estimators': [100, 200, 300],\n",
    "#         'max_depth': [5, 7, 10],\n",
    "#         'learning_rate': [0.01, 0.05, 0.1],\n",
    "#         'num_leaves': [31, 50, 70]\n",
    "#     }\n",
    "    \n",
    "#     lgbm = LGBMRegressor(random_state=42)\n",
    "    \n",
    "#     lgbm_grid = GridSearchCV(estimator=lgbm, \n",
    "#                              param_grid=lgbm_param_grid, \n",
    "#                              cv=5,\n",
    "#                              scoring='neg_mean_squared_error', \n",
    "#                              n_jobs=-1,\n",
    "#                              verbose=1)\n",
    "#     lgbm_grid.fit(X_train, y_train)\n",
    "\n",
    "#     print(\"\\nBest parameters for LGBMRegressor:\", lgbm_grid.best_params_)\n",
    "#     best_lgbm_rmse = np.sqrt(-lgbm_grid.best_score_)\n",
    "#     print(\"Best cross-validated RMSE for LGBMRegressor: {:.4f}\".format(best_lgbm_rmse))\n",
    "    \n",
    "#     y_pred_lgbm = lgbm_grid.predict(X_test)\n",
    "#     test_rmse_lgbm = np.sqrt(mean_squared_error(y_test, y_pred_lgbm))\n",
    "#     print(\"Test RMSE for LGBMRegressor: {:.4f}\".format(test_rmse_lgbm))\n",
    "\n",
    "# hypertune_lgbm_model()"
   ]
  },
  {
   "cell_type": "code",
   "execution_count": 14,
   "id": "af68e47e",
   "metadata": {
    "_kg_hide-input": true,
    "execution": {
     "iopub.execute_input": "2025-02-22T14:27:16.448243Z",
     "iopub.status.busy": "2025-02-22T14:27:16.447822Z",
     "iopub.status.idle": "2025-02-22T14:27:58.353384Z",
     "shell.execute_reply": "2025-02-22T14:27:58.352071Z"
    },
    "papermill": {
     "duration": 41.916865,
     "end_time": "2025-02-22T14:27:58.359086",
     "exception": false,
     "start_time": "2025-02-22T14:27:16.442221",
     "status": "completed"
    },
    "tags": []
   },
   "outputs": [
    {
     "name": "stdout",
     "output_type": "stream",
     "text": [
      "[LightGBM] [Info] Auto-choosing row-wise multi-threading, the overhead of testing was 0.068707 seconds.\n",
      "You can set `force_row_wise=true` to remove the overhead.\n",
      "And if memory is not enough, you can set `force_col_wise=true`.\n",
      "[LightGBM] [Info] Total Bins 1139\n",
      "[LightGBM] [Info] Number of data points in the train set: 3195454, number of used features: 54\n",
      "[LightGBM] [Info] Start training from score 81.361311\n",
      "Test RMSE for LGBMRegressor: 38.8719\n"
     ]
    }
   ],
   "source": [
    "model = LGBMRegressor(\n",
    "    n_estimators=300,\n",
    "    max_depth=7,\n",
    "    learning_rate=0.05,\n",
    "    num_leaves=31,\n",
    "    random_state=42\n",
    ")\n",
    "\n",
    "model.fit(X_train, y_train)\n",
    "\n",
    "y_pred_lgbm = model.predict(X_test)\n",
    "test_rmse_lgbm = np.sqrt(mean_squared_error(y_test, y_pred_lgbm))\n",
    "print(\"Test RMSE for LGBMRegressor: {:.4f}\".format(test_rmse_lgbm))"
   ]
  },
  {
   "cell_type": "code",
   "execution_count": 15,
   "id": "3681ff02",
   "metadata": {
    "execution": {
     "iopub.execute_input": "2025-02-22T14:27:58.370027Z",
     "iopub.status.busy": "2025-02-22T14:27:58.369674Z",
     "iopub.status.idle": "2025-02-22T14:28:01.262720Z",
     "shell.execute_reply": "2025-02-22T14:28:01.261556Z"
    },
    "papermill": {
     "duration": 2.900924,
     "end_time": "2025-02-22T14:28:01.264780",
     "exception": false,
     "start_time": "2025-02-22T14:27:58.363856",
     "status": "completed"
    },
    "tags": []
   },
   "outputs": [],
   "source": [
    "X_test_transformed = pipeline.transform(test_df.drop('id', axis=1))\n",
    "y_pred = model.predict(X_test_transformed)\n",
    "\n",
    "test_df['Price'] = y_pred\n",
    "test_df[['id', 'Price']].to_csv('/kaggle/working/submission.csv', index=False)"
   ]
  }
 ],
 "metadata": {
  "kaggle": {
   "accelerator": "none",
   "dataSources": [
    {
     "databundleVersionId": 10995111,
     "sourceId": 90274,
     "sourceType": "competition"
    }
   ],
   "dockerImageVersionId": 30918,
   "isGpuEnabled": false,
   "isInternetEnabled": true,
   "language": "python",
   "sourceType": "notebook"
  },
  "kernelspec": {
   "display_name": "Python 3",
   "language": "python",
   "name": "python3"
  },
  "language_info": {
   "codemirror_mode": {
    "name": "ipython",
    "version": 3
   },
   "file_extension": ".py",
   "mimetype": "text/x-python",
   "name": "python",
   "nbconvert_exporter": "python",
   "pygments_lexer": "ipython3",
   "version": "3.10.12"
  },
  "papermill": {
   "default_parameters": {},
   "duration": 105.835824,
   "end_time": "2025-02-22T14:28:02.393929",
   "environment_variables": {},
   "exception": null,
   "input_path": "__notebook__.ipynb",
   "output_path": "__notebook__.ipynb",
   "parameters": {},
   "start_time": "2025-02-22T14:26:16.558105",
   "version": "2.6.0"
  }
 },
 "nbformat": 4,
 "nbformat_minor": 5
}
