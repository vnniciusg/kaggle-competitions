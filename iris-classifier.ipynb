{
 "cells": [
  {
   "cell_type": "code",
   "execution_count": 1,
   "id": "e593582a",
   "metadata": {
    "execution": {
     "iopub.execute_input": "2025-02-24T23:44:36.016823Z",
     "iopub.status.busy": "2025-02-24T23:44:36.016257Z",
     "iopub.status.idle": "2025-02-24T23:44:36.023202Z",
     "shell.execute_reply": "2025-02-24T23:44:36.022029Z"
    },
    "papermill": {
     "duration": 0.014329,
     "end_time": "2025-02-24T23:44:36.025259",
     "exception": false,
     "start_time": "2025-02-24T23:44:36.010930",
     "status": "completed"
    },
    "tags": []
   },
   "outputs": [],
   "source": [
    "import warnings\n",
    "\n",
    "warnings.filterwarnings('ignore')"
   ]
  },
  {
   "cell_type": "code",
   "execution_count": 2,
   "id": "1bcd5a25",
   "metadata": {
    "_cell_guid": "b1076dfc-b9ad-4769-8c92-a6c4dae69d19",
    "_uuid": "8f2839f25d086af736a60e9eeb907d3b93b6e0e5",
    "execution": {
     "iopub.execute_input": "2025-02-24T23:44:36.033660Z",
     "iopub.status.busy": "2025-02-24T23:44:36.033236Z",
     "iopub.status.idle": "2025-02-24T23:44:39.110703Z",
     "shell.execute_reply": "2025-02-24T23:44:39.109129Z"
    },
    "papermill": {
     "duration": 3.084023,
     "end_time": "2025-02-24T23:44:39.113076",
     "exception": false,
     "start_time": "2025-02-24T23:44:36.029053",
     "status": "completed"
    },
    "tags": []
   },
   "outputs": [
    {
     "name": "stdout",
     "output_type": "stream",
     "text": [
      "/kaggle/input/iris/Iris.csv\n",
      "/kaggle/input/iris/database.sqlite\n"
     ]
    }
   ],
   "source": [
    "import numpy as np\n",
    "import pandas as pd\n",
    "from collections import Counter\n",
    "import matplotlib.pyplot as plt\n",
    "from sklearn.model_selection import train_test_split, GridSearchCV\n",
    "from sklearn.neighbors import KNeighborsClassifier\n",
    "from sklearn.metrics import accuracy_score, classification_report, confusion_matrix, ConfusionMatrixDisplay\n",
    "\n",
    "import os\n",
    "for dirname, _, filenames in os.walk('/kaggle/input'):\n",
    "    for filename in filenames:\n",
    "        print(os.path.join(dirname, filename))"
   ]
  },
  {
   "cell_type": "code",
   "execution_count": 3,
   "id": "3eda81e2",
   "metadata": {
    "execution": {
     "iopub.execute_input": "2025-02-24T23:44:39.121560Z",
     "iopub.status.busy": "2025-02-24T23:44:39.120827Z",
     "iopub.status.idle": "2025-02-24T23:44:39.172816Z",
     "shell.execute_reply": "2025-02-24T23:44:39.171414Z"
    },
    "papermill": {
     "duration": 0.058839,
     "end_time": "2025-02-24T23:44:39.175289",
     "exception": false,
     "start_time": "2025-02-24T23:44:39.116450",
     "status": "completed"
    },
    "tags": []
   },
   "outputs": [
    {
     "data": {
      "text/html": [
       "<div>\n",
       "<style scoped>\n",
       "    .dataframe tbody tr th:only-of-type {\n",
       "        vertical-align: middle;\n",
       "    }\n",
       "\n",
       "    .dataframe tbody tr th {\n",
       "        vertical-align: top;\n",
       "    }\n",
       "\n",
       "    .dataframe thead th {\n",
       "        text-align: right;\n",
       "    }\n",
       "</style>\n",
       "<table border=\"1\" class=\"dataframe\">\n",
       "  <thead>\n",
       "    <tr style=\"text-align: right;\">\n",
       "      <th></th>\n",
       "      <th>Id</th>\n",
       "      <th>SepalLengthCm</th>\n",
       "      <th>SepalWidthCm</th>\n",
       "      <th>PetalLengthCm</th>\n",
       "      <th>PetalWidthCm</th>\n",
       "      <th>Species</th>\n",
       "    </tr>\n",
       "  </thead>\n",
       "  <tbody>\n",
       "    <tr>\n",
       "      <th>0</th>\n",
       "      <td>1</td>\n",
       "      <td>5.1</td>\n",
       "      <td>3.5</td>\n",
       "      <td>1.4</td>\n",
       "      <td>0.2</td>\n",
       "      <td>Iris-setosa</td>\n",
       "    </tr>\n",
       "    <tr>\n",
       "      <th>1</th>\n",
       "      <td>2</td>\n",
       "      <td>4.9</td>\n",
       "      <td>3.0</td>\n",
       "      <td>1.4</td>\n",
       "      <td>0.2</td>\n",
       "      <td>Iris-setosa</td>\n",
       "    </tr>\n",
       "    <tr>\n",
       "      <th>2</th>\n",
       "      <td>3</td>\n",
       "      <td>4.7</td>\n",
       "      <td>3.2</td>\n",
       "      <td>1.3</td>\n",
       "      <td>0.2</td>\n",
       "      <td>Iris-setosa</td>\n",
       "    </tr>\n",
       "    <tr>\n",
       "      <th>3</th>\n",
       "      <td>4</td>\n",
       "      <td>4.6</td>\n",
       "      <td>3.1</td>\n",
       "      <td>1.5</td>\n",
       "      <td>0.2</td>\n",
       "      <td>Iris-setosa</td>\n",
       "    </tr>\n",
       "    <tr>\n",
       "      <th>4</th>\n",
       "      <td>5</td>\n",
       "      <td>5.0</td>\n",
       "      <td>3.6</td>\n",
       "      <td>1.4</td>\n",
       "      <td>0.2</td>\n",
       "      <td>Iris-setosa</td>\n",
       "    </tr>\n",
       "  </tbody>\n",
       "</table>\n",
       "</div>"
      ],
      "text/plain": [
       "   Id  SepalLengthCm  SepalWidthCm  PetalLengthCm  PetalWidthCm      Species\n",
       "0   1            5.1           3.5            1.4           0.2  Iris-setosa\n",
       "1   2            4.9           3.0            1.4           0.2  Iris-setosa\n",
       "2   3            4.7           3.2            1.3           0.2  Iris-setosa\n",
       "3   4            4.6           3.1            1.5           0.2  Iris-setosa\n",
       "4   5            5.0           3.6            1.4           0.2  Iris-setosa"
      ]
     },
     "execution_count": 3,
     "metadata": {},
     "output_type": "execute_result"
    }
   ],
   "source": [
    "df = pd.read_csv('/kaggle/input/iris/Iris.csv')\n",
    "df.head()"
   ]
  },
  {
   "cell_type": "code",
   "execution_count": 4,
   "id": "30f6d301",
   "metadata": {
    "execution": {
     "iopub.execute_input": "2025-02-24T23:44:39.183571Z",
     "iopub.status.busy": "2025-02-24T23:44:39.183184Z",
     "iopub.status.idle": "2025-02-24T23:44:39.217149Z",
     "shell.execute_reply": "2025-02-24T23:44:39.215644Z"
    },
    "papermill": {
     "duration": 0.040783,
     "end_time": "2025-02-24T23:44:39.219677",
     "exception": false,
     "start_time": "2025-02-24T23:44:39.178894",
     "status": "completed"
    },
    "tags": []
   },
   "outputs": [
    {
     "name": "stdout",
     "output_type": "stream",
     "text": [
      "<class 'pandas.core.frame.DataFrame'>\n",
      "RangeIndex: 150 entries, 0 to 149\n",
      "Data columns (total 6 columns):\n",
      " #   Column         Non-Null Count  Dtype  \n",
      "---  ------         --------------  -----  \n",
      " 0   Id             150 non-null    int64  \n",
      " 1   SepalLengthCm  150 non-null    float64\n",
      " 2   SepalWidthCm   150 non-null    float64\n",
      " 3   PetalLengthCm  150 non-null    float64\n",
      " 4   PetalWidthCm   150 non-null    float64\n",
      " 5   Species        150 non-null    object \n",
      "dtypes: float64(4), int64(1), object(1)\n",
      "memory usage: 7.2+ KB\n"
     ]
    }
   ],
   "source": [
    "df.info()"
   ]
  },
  {
   "cell_type": "code",
   "execution_count": 5,
   "id": "0d4e57e9",
   "metadata": {
    "execution": {
     "iopub.execute_input": "2025-02-24T23:44:39.233379Z",
     "iopub.status.busy": "2025-02-24T23:44:39.232817Z",
     "iopub.status.idle": "2025-02-24T23:44:39.242801Z",
     "shell.execute_reply": "2025-02-24T23:44:39.241526Z"
    },
    "papermill": {
     "duration": 0.018996,
     "end_time": "2025-02-24T23:44:39.244970",
     "exception": false,
     "start_time": "2025-02-24T23:44:39.225974",
     "status": "completed"
    },
    "tags": []
   },
   "outputs": [
    {
     "data": {
      "text/plain": [
       "Species\n",
       "Iris-setosa        50\n",
       "Iris-versicolor    50\n",
       "Iris-virginica     50\n",
       "Name: count, dtype: int64"
      ]
     },
     "execution_count": 5,
     "metadata": {},
     "output_type": "execute_result"
    }
   ],
   "source": [
    "df['Species'].value_counts()"
   ]
  },
  {
   "cell_type": "code",
   "execution_count": 6,
   "id": "636e5cc4",
   "metadata": {
    "execution": {
     "iopub.execute_input": "2025-02-24T23:44:39.253922Z",
     "iopub.status.busy": "2025-02-24T23:44:39.253362Z",
     "iopub.status.idle": "2025-02-24T23:44:39.261658Z",
     "shell.execute_reply": "2025-02-24T23:44:39.260241Z"
    },
    "papermill": {
     "duration": 0.015363,
     "end_time": "2025-02-24T23:44:39.264031",
     "exception": false,
     "start_time": "2025-02-24T23:44:39.248668",
     "status": "completed"
    },
    "tags": []
   },
   "outputs": [],
   "source": [
    "X = df.drop(['Id', 'Species'], axis=1)\n",
    "y = df['Species']"
   ]
  },
  {
   "cell_type": "code",
   "execution_count": 7,
   "id": "1cf5ca74",
   "metadata": {
    "execution": {
     "iopub.execute_input": "2025-02-24T23:44:39.273020Z",
     "iopub.status.busy": "2025-02-24T23:44:39.272466Z",
     "iopub.status.idle": "2025-02-24T23:44:39.279850Z",
     "shell.execute_reply": "2025-02-24T23:44:39.278584Z"
    },
    "papermill": {
     "duration": 0.014261,
     "end_time": "2025-02-24T23:44:39.282157",
     "exception": false,
     "start_time": "2025-02-24T23:44:39.267896",
     "status": "completed"
    },
    "tags": []
   },
   "outputs": [],
   "source": [
    "from time import perf_counter\n",
    "from functools import wraps\n",
    "\n",
    "def timeit(func):\n",
    "    @wraps(func)\n",
    "    def wrapper(*args, **kwargs):\n",
    "        start_time = perf_counter()\n",
    "        result = func(*args, **kwargs)\n",
    "        print(f'{func.__name__} took {perf_counter() - start_time:.2f} seconds')\n",
    "        return result\n",
    "    return wrapper"
   ]
  },
  {
   "cell_type": "code",
   "execution_count": 8,
   "id": "dd3c4939",
   "metadata": {
    "execution": {
     "iopub.execute_input": "2025-02-24T23:44:39.295760Z",
     "iopub.status.busy": "2025-02-24T23:44:39.295331Z",
     "iopub.status.idle": "2025-02-24T23:44:39.476597Z",
     "shell.execute_reply": "2025-02-24T23:44:39.475005Z"
    },
    "papermill": {
     "duration": 0.19,
     "end_time": "2025-02-24T23:44:39.478377",
     "exception": false,
     "start_time": "2025-02-24T23:44:39.288377",
     "status": "completed"
    },
    "tags": []
   },
   "outputs": [
    {
     "name": "stdout",
     "output_type": "stream",
     "text": [
      "predict took 0.17 seconds\n"
     ]
    }
   ],
   "source": [
    "class KNN:\n",
    "\n",
    "    def __init__(self, k: int = 3):\n",
    "        self.k = k\n",
    "\n",
    "    def fit(self, X, y):\n",
    "        self.X_train = np.array(X, dtype=float)\n",
    "        self.y_train = np.array(y)\n",
    "\n",
    "    @timeit\n",
    "    def predict(self, X):\n",
    "        X = np.array(X, dtype=float)\n",
    "        predictions = [self._predict(x) for x in X]\n",
    "        return predictions\n",
    "        \n",
    "    def _predict(self, x):\n",
    "        \n",
    "        if not hasattr(self, 'X_train'):\n",
    "            raise ValueError('model must be fitted before make predictions.')\n",
    "        \n",
    "        distances = [self.euclidean_distance(x, x_train) for x_train in self.X_train]\n",
    "\n",
    "        k_indices = np.argsort(distances)[:self.k]\n",
    "        k_nearest_labels = [self.y_train[i] for i in k_indices]\n",
    "\n",
    "        return Counter(k_nearest_labels).most_common()[0][0]\n",
    "    \n",
    "    def euclidean_distance(self, x1, x2):\n",
    "        return np.sqrt(np.sum((x1 - x2) ** 2))\n",
    "\n",
    "knn = KNN()\n",
    "knn.fit(X, y)\n",
    "\n",
    "y_pred = knn.predict(X)"
   ]
  },
  {
   "cell_type": "code",
   "execution_count": 9,
   "id": "f2bafe2a",
   "metadata": {
    "execution": {
     "iopub.execute_input": "2025-02-24T23:44:39.486960Z",
     "iopub.status.busy": "2025-02-24T23:44:39.486533Z",
     "iopub.status.idle": "2025-02-24T23:44:39.828766Z",
     "shell.execute_reply": "2025-02-24T23:44:39.827094Z"
    },
    "papermill": {
     "duration": 0.348931,
     "end_time": "2025-02-24T23:44:39.830955",
     "exception": false,
     "start_time": "2025-02-24T23:44:39.482024",
     "status": "completed"
    },
    "tags": []
   },
   "outputs": [
    {
     "name": "stdout",
     "output_type": "stream",
     "text": [
      "Accuracy: 0.96\n"
     ]
    },
    {
     "data": {
      "image/png": "[encoded data removed]",
      "text/plain": [
       "<Figure size 640x480 with 2 Axes>"
      ]
     },
     "metadata": {},
     "output_type": "display_data"
    },
    {
     "name": "stdout",
     "output_type": "stream",
     "text": [
      "Classification Report:\n",
      "                 precision    recall  f1-score   support\n",
      "\n",
      "    Iris-setosa       1.00      1.00      1.00        50\n",
      "Iris-versicolor       0.94      0.94      0.94        50\n",
      " Iris-virginica       0.94      0.94      0.94        50\n",
      "\n",
      "       accuracy                           0.96       150\n",
      "      macro avg       0.96      0.96      0.96       150\n",
      "   weighted avg       0.96      0.96      0.96       150\n",
      "\n"
     ]
    }
   ],
   "source": [
    "accuracy = accuracy_score(y, y_pred)\n",
    "print(f\"Accuracy: {accuracy:.2f}\")\n",
    "\n",
    "cm = ConfusionMatrixDisplay(confusion_matrix(y, y_pred))\n",
    "cm.plot()\n",
    "plt.show()\n",
    "\n",
    "report = classification_report(y, y_pred)\n",
    "print(\"Classification Report:\")\n",
    "print(report)"
   ]
  },
  {
   "cell_type": "code",
   "execution_count": 10,
   "id": "7a399df5",
   "metadata": {
    "execution": {
     "iopub.execute_input": "2025-02-24T23:44:39.841018Z",
     "iopub.status.busy": "2025-02-24T23:44:39.840623Z",
     "iopub.status.idle": "2025-02-24T23:44:40.258076Z",
     "shell.execute_reply": "2025-02-24T23:44:40.256545Z"
    },
    "papermill": {
     "duration": 0.424685,
     "end_time": "2025-02-24T23:44:40.260019",
     "exception": false,
     "start_time": "2025-02-24T23:44:39.835334",
     "status": "completed"
    },
    "tags": []
   },
   "outputs": [
    {
     "name": "stdout",
     "output_type": "stream",
     "text": [
      "predict took 0.17 seconds\n",
      "Accuracy: 0.96\n"
     ]
    },
    {
     "data": {
      "image/png": "[encoded data removed]",
      "text/plain": [
       "<Figure size 640x480 with 2 Axes>"
      ]
     },
     "metadata": {},
     "output_type": "display_data"
    },
    {
     "name": "stdout",
     "output_type": "stream",
     "text": [
      "Classification Report:\n",
      "                 precision    recall  f1-score   support\n",
      "\n",
      "    Iris-setosa       1.00      1.00      1.00        50\n",
      "Iris-versicolor       0.94      0.94      0.94        50\n",
      " Iris-virginica       0.94      0.94      0.94        50\n",
      "\n",
      "       accuracy                           0.96       150\n",
      "      macro avg       0.96      0.96      0.96       150\n",
      "   weighted avg       0.96      0.96      0.96       150\n",
      "\n"
     ]
    }
   ],
   "source": [
    "sklearn_knn = KNeighborsClassifier()\n",
    "sklearn_knn.fit(X, y)\n",
    "\n",
    "y_pred = knn.predict(X)\n",
    "\n",
    "accuracy = accuracy_score(y, y_pred)\n",
    "print(f\"Accuracy: {accuracy:.2f}\")\n",
    "\n",
    "cm = ConfusionMatrixDisplay(confusion_matrix(y, y_pred))\n",
    "cm.plot()\n",
    "plt.show()\n",
    "\n",
    "report = classification_report(y, y_pred)\n",
    "print(\"Classification Report:\")\n",
    "print(report)"
   ]
  }
 ],
 "metadata": {
  "kaggle": {
   "accelerator": "none",
   "dataSources": [
    {
     "datasetId": 19,
     "sourceId": 420,
     "sourceType": "datasetVersion"
    }
   ],
   "dockerImageVersionId": 30918,
   "isGpuEnabled": false,
   "isInternetEnabled": true,
   "language": "python",
   "sourceType": "notebook"
  },
  "kernelspec": {
   "display_name": "Python 3",
   "language": "python",
   "name": "python3"
  },
  "language_info": {
   "codemirror_mode": {
    "name": "ipython",
    "version": 3
   },
   "file_extension": ".py",
   "mimetype": "text/x-python",
   "name": "python",
   "nbconvert_exporter": "python",
   "pygments_lexer": "ipython3",
   "version": "3.10.12"
  },
  "papermill": {
   "default_parameters": {},
   "duration": 8.755934,
   "end_time": "2025-02-24T23:44:41.086321",
   "environment_variables": {},
   "exception": null,
   "input_path": "__notebook__.ipynb",
   "output_path": "__notebook__.ipynb",
   "parameters": {},
   "start_time": "2025-02-24T23:44:32.330387",
   "version": "2.6.0"
  }
 },
 "nbformat": 4,
 "nbformat_minor": 5
}
